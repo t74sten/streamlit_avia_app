{
 "cells": [
  {
   "cell_type": "markdown",
   "id": "e2d78ffc",
   "metadata": {},
   "source": [
    "## Импорт либ"
   ]
  },
  {
   "cell_type": "code",
   "execution_count": 2,
   "id": "2b2fa3a8",
   "metadata": {},
   "outputs": [],
   "source": [
    "import numpy as np\n",
    "import pandas as pd\n",
    "\n",
    "from sklearn.model_selection import train_test_split\n",
    "from sklearn.datasets import make_classification\n",
    "from sklearn.ensemble import BaggingClassifier\n",
    "from sklearn.ensemble import GradientBoostingClassifier\n",
    "from sklearn.metrics import confusion_matrix\n",
    "from sklearn.metrics import roc_curve, precision_recall_curve\n",
    "\n",
    "from sklearn.inspection import permutation_importance\n",
    "\n",
    "import joblib\n",
    "\n",
    "import seaborn as sns\n",
    "import matplotlib.pyplot as plt\n",
    "sns.set(rc={'figure.figsize':(23,8)}, style=\"whitegrid\")"
   ]
  },
  {
   "cell_type": "markdown",
   "id": "9b7b87a7",
   "metadata": {},
   "source": [
    "### Обработка датасета"
   ]
  },
  {
   "cell_type": "code",
   "execution_count": 2,
   "id": "7fd41aff",
   "metadata": {},
   "outputs": [],
   "source": [
    "#df = pd.read_csv('https://raw.githubusercontent.com/evgpat/edu_stepik_from_idea_to_mvp/main/datasets/clients.csv')\n",
    "df = pd.read_csv('clients.csv')"
   ]
  },
  {
   "cell_type": "code",
   "execution_count": 3,
   "id": "7a23f067",
   "metadata": {},
   "outputs": [],
   "source": [
    "df.columns = df.columns.str.replace(\" \", \"_\")\n",
    "df.columns = df.columns.str.replace(\"-\", \"_\")\n",
    "df.columns = df.columns.str.replace(\"/\", \"_\")\n",
    "df.columns = df.columns.str.lower()"
   ]
  },
  {
   "cell_type": "code",
   "execution_count": 4,
   "id": "3aadbb4e",
   "metadata": {},
   "outputs": [],
   "source": [
    "df_f = df.query('age < 87 and \\\n",
    "                flight_distance < 4000 and \\\n",
    "                arrival_delay_in_minutes < 300 and \\\n",
    "                departure_delay_in_minutes < 300 and \\\n",
    "                inflight_wifi_service <= 5 and \\\n",
    "                departure_arrival_time_convenient <= 5 and \\\n",
    "                ease_of_online_booking <= 5 and \\\n",
    "                gate_location <= 5 and \\\n",
    "                food_and_drink <= 5 and \\\n",
    "                online_boarding <= 5 and \\\n",
    "                seat_comfort <= 5 and \\\n",
    "                inflight_entertainment <= 5 and \\\n",
    "                on_board_service <= 5 and \\\n",
    "                leg_room_service <= 5 and \\\n",
    "                baggage_handling <= 5 and \\\n",
    "                checkin_service <= 5 and \\\n",
    "                inflight_service <= 5 and \\\n",
    "                cleanliness <= 5')"
   ]
  },
  {
   "cell_type": "code",
   "execution_count": 5,
   "id": "a6092831",
   "metadata": {},
   "outputs": [],
   "source": [
    "code_nums = {\"gender\": {\"Male\": 1, \"Female\": 0},\n",
    "             \"customer_type\": {\"Loyal Customer\": 1, \"disloyal Customer\": 0},\n",
    "             \"type_of_travel\": {\"Personal Travel\": 0, \"Business travel\": 1}, \n",
    "             \"satisfaction\": {\"neutral or dissatisfied\": 0, \"satisfied\": 1, \"-\": np.nan}}"
   ]
  },
  {
   "cell_type": "code",
   "execution_count": 6,
   "id": "ae6eaeec",
   "metadata": {},
   "outputs": [],
   "source": [
    "df_f = df_f.replace(code_nums)"
   ]
  },
  {
   "cell_type": "code",
   "execution_count": 7,
   "id": "26cd4ea8",
   "metadata": {},
   "outputs": [],
   "source": [
    "df_f = pd.get_dummies(df_f, prefix = ['c'],\n",
    "                          columns = ['class'],\n",
    "                          drop_first = False)"
   ]
  },
  {
   "cell_type": "code",
   "execution_count": 8,
   "id": "94fd7627",
   "metadata": {},
   "outputs": [],
   "source": [
    "df_f = df_f.dropna()"
   ]
  },
  {
   "cell_type": "markdown",
   "id": "c8598d09",
   "metadata": {},
   "source": [
    "### Подготовка выборок"
   ]
  },
  {
   "cell_type": "code",
   "execution_count": 9,
   "id": "d588e76d",
   "metadata": {},
   "outputs": [],
   "source": [
    "X = df_f.drop(columns = ['satisfaction', 'id'])\n",
    "y = df_f.satisfaction"
   ]
  },
  {
   "cell_type": "code",
   "execution_count": 10,
   "id": "f83a66ac",
   "metadata": {},
   "outputs": [
    {
     "data": {
      "text/plain": [
       "((70581, 24), (30250, 24))"
      ]
     },
     "execution_count": 10,
     "metadata": {},
     "output_type": "execute_result"
    }
   ],
   "source": [
    "X_train, X_test, y_train, y_test = train_test_split(X, y, test_size=0.3, random_state=42)\n",
    "\n",
    "X_train.shape, X_test.shape"
   ]
  },
  {
   "cell_type": "markdown",
   "id": "88ebf840",
   "metadata": {},
   "source": [
    "### Обучем градиентный бустинг"
   ]
  },
  {
   "cell_type": "code",
   "execution_count": 11,
   "id": "12333083",
   "metadata": {},
   "outputs": [],
   "source": [
    "model_3 = GradientBoostingClassifier(learning_rate=0.1, n_estimators=600, subsample=1.0,\n",
    "                                     criterion='friedman_mse', min_samples_split=2, min_samples_leaf=1,\n",
    "                                     min_weight_fraction_leaf=0.0, max_depth=5, min_impurity_decrease=0.0,\n",
    "                                     init=None, random_state=42)\n",
    "model_3.fit(X_train, y_train)\n",
    "pred_3 = model_3.predict(X_test)"
   ]
  },
  {
   "cell_type": "code",
   "execution_count": 12,
   "id": "398aec0a",
   "metadata": {},
   "outputs": [
    {
     "data": {
      "text/plain": [
       "array([[16811,   372],\n",
       "       [  689, 12378]], dtype=int64)"
      ]
     },
     "execution_count": 12,
     "metadata": {},
     "output_type": "execute_result"
    }
   ],
   "source": [
    "confusion_matrix(y_test, pred_3)"
   ]
  },
  {
   "cell_type": "code",
   "execution_count": 13,
   "id": "f2b63753",
   "metadata": {},
   "outputs": [],
   "source": [
    "pred_proba_train_3 = model_3.predict_proba(X_train)\n",
    "pred_proba_test_3 = model_3.predict_proba(X_test)\n",
    "    \n",
    "fpr_train_3, tpr_train_3, _ = roc_curve(y_train, pred_proba_train_3[:, 1])\n",
    "fpr_test_3, tpr_test_3, _ = roc_curve(y_test, pred_proba_test_3[:, 1])\n",
    "\n",
    "precision_test_3, recall_test_3, thresholds_test_3 = precision_recall_curve(y_test, pred_proba_test_3[:, 1])      \n",
    "f1_3 = 2 * precision_test_3 * recall_test_3  / (precision_test_3 + recall_test_3)\n",
    "\n",
    "beta = 0.5\n",
    "f_beta_3 = (1 + beta**2) * precision_test_3 * recall_test_3  / (beta**2 * precision_test_3 + recall_test_3)"
   ]
  },
  {
   "cell_type": "code",
   "execution_count": 14,
   "id": "c5b51846",
   "metadata": {},
   "outputs": [
    {
     "data": {
      "image/png": "[encoded data removed]",
      "text/plain": [
       "<Figure size 2300x1000 with 4 Axes>"
      ]
     },
     "metadata": {},
     "output_type": "display_data"
    }
   ],
   "source": [
    "fig, axes = plt.subplots(2, 2, figsize = (23, 10))\n",
    "\n",
    "axes[0][0].plot(fpr_train_3, tpr_train_3, 'r', label = 'Model Train')\n",
    "axes[0][0].plot(fpr_test_3, tpr_test_3, 'r--', label = 'Model Test')\n",
    "axes[0][0].plot([0, 1], [0, 1], 'b', label = 'Baseline')\n",
    "axes[0][0].set_xlim([0.0, 1.0])\n",
    "axes[0][0].set_ylim([0.0, 1.0])\n",
    "axes[0][0].set_xlabel('False Positive Rate')\n",
    "axes[0][0].set_ylabel('True Positive Rate')\n",
    "axes[0][0].legend(loc = \"lower right\")\n",
    "axes[0][0].set_title('ROC AUC Curve')\n",
    "\n",
    "\n",
    "axes[0][1].plot(np.append(thresholds_test_3, 1.0), precision_test_3, 'r', label = 'Precision')\n",
    "axes[0][1].plot(np.append(thresholds_test_3, 1.0), recall_test_3, 'g', label = 'Recall')\n",
    "axes[0][1].set_xlabel('Thresholds')\n",
    "axes[0][1].set_ylabel('Precision & Recall')\n",
    "axes[0][1].legend(loc = \"lower left\")\n",
    "axes[0][1].set_title('Precision - Recall')\n",
    "\n",
    "\n",
    "axes[1][0].plot(np.append(thresholds_test_3, 1.0), f1_3, 'g')\n",
    "axes[1][0].set_xlabel('Thresholds')\n",
    "axes[1][0].set_ylabel('F1 score')\n",
    "axes[1][0].set_title('F1 score')\n",
    "\n",
    "axes[1][1].plot(np.append(thresholds_test_3, 1.0), f_beta_3, 'g')\n",
    "axes[1][1].set_xlabel('Thresholds')\n",
    "axes[1][1].set_ylabel(r'$F_{\\beta}$' + ' score')\n",
    "axes[1][1].set_title(r'$F_{\\beta}$' + ' score')\n",
    "       \n",
    "plt.show()"
   ]
  },
  {
   "cell_type": "code",
   "execution_count": 15,
   "id": "a02a9441",
   "metadata": {},
   "outputs": [
    {
     "name": "stdout",
     "output_type": "stream",
     "text": [
      "F1 Score = 0.959:  F_beta Score = 0.97  Recall = 0.943  Precision = 0.977\n",
      "F1 Score = 0.949:  F_beta Score = 0.976  Recall = 0.909  Precision = 0.994\n"
     ]
    }
   ],
   "source": [
    "ind_max_f1_3 = np.where(f1_3 == max(f1_3))[0][0]\n",
    "ind_max_f_beta_3 = np.where(f_beta_3 == max(f_beta_3))[0][0]\n",
    "\n",
    "print('F1 Score = {s[0]}:  F_beta Score = {s[1]}  Recall = {s[2]}  Precision = {s[3]}'.\\\n",
    "     format(s = [round(f1_3[ind_max_f1_3], 3),\n",
    "                 round(f_beta_3[ind_max_f1_3], 3),\n",
    "                 round(recall_test_3[ind_max_f1_3], 3),\n",
    "                 round(precision_test_3[ind_max_f1_3], 3)]))\n",
    "\n",
    "print('F1 Score = {s[0]}:  F_beta Score = {s[1]}  Recall = {s[2]}  Precision = {s[3]}'.\\\n",
    "     format(s = [round(f1_3[ind_max_f_beta_3], 3),\n",
    "                 round(f_beta_3[ind_max_f_beta_3], 3),\n",
    "                 round(recall_test_3[ind_max_f_beta_3], 3),\n",
    "                 round(precision_test_3[ind_max_f_beta_3], 3)]))"
   ]
  },
  {
   "cell_type": "code",
   "execution_count": 16,
   "id": "7b0f1eed",
   "metadata": {},
   "outputs": [
    {
     "name": "stdout",
     "output_type": "stream",
     "text": [
      "customer_type    0.157 +/- 0.002\n",
      "arrival_delay_in_minutes    0.138 +/- 0.002\n",
      "age    0.078 +/- 0.001\n",
      "food_and_drink    0.027 +/- 0.001\n",
      "leg_room_service    0.024 +/- 0.001\n",
      "checkin_service    0.022 +/- 0.001\n",
      "baggage_handling    0.021 +/- 0.001\n",
      "online_boarding    0.017 +/- 0.001\n",
      "inflight_service    0.010 +/- 0.000\n",
      "departure_arrival_time_convenient    0.007 +/- 0.000\n",
      "gender    0.006 +/- 0.000\n",
      "cleanliness    0.006 +/- 0.000\n",
      "inflight_entertainment    0.005 +/- 0.001\n",
      "seat_comfort    0.004 +/- 0.000\n",
      "ease_of_online_booking    0.003 +/- 0.000\n",
      "type_of_travel    0.003 +/- 0.000\n",
      "departure_delay_in_minutes    0.003 +/- 0.000\n",
      "inflight_wifi_service    0.002 +/- 0.000\n",
      "on_board_service    0.002 +/- 0.000\n",
      "flight_distance    0.001 +/- 0.000\n",
      "gate_location    0.001 +/- 0.000\n",
      "satisfaction    0.000 +/- 0.000\n"
     ]
    }
   ],
   "source": [
    "r = permutation_importance(model_3, X_test, y_test, n_repeats=10, random_state=42)\n",
    "for i in r.importances_mean.argsort()[::-1]:\n",
    "    if r.importances_mean[i] - 2 * r.importances_std[i] > 0:\n",
    "        print(f\"{df_f.columns.values.tolist()[i]:<3}\"\n",
    "              f\"    {r.importances_mean[i]:.3f}\"\n",
    "              f\" +/- {r.importances_std[i]:.3f}\")"
   ]
  },
  {
   "cell_type": "markdown",
   "id": "d9e3b779",
   "metadata": {},
   "source": [
    "Существенными факторами, влияющими на классификацию являются: \n",
    "1. Тип клиента, лояльный или нет\n",
    "2. Задержка прибытия\n",
    "3. Возраст\n",
    "\n",
    "Интересен момент, что задержка прибытия очень важна, мне казалось, что больше раздражает задержка подачи самолета"
   ]
  },
  {
   "cell_type": "markdown",
   "id": "8094bc6f",
   "metadata": {},
   "source": [
    "Скор еще лучше, пока будем использовать эту модель"
   ]
  },
  {
   "cell_type": "markdown",
   "id": "16c6d863",
   "metadata": {},
   "source": [
    "### Сохраняем model_3"
   ]
  },
  {
   "cell_type": "code",
   "execution_count": 17,
   "id": "3f9e2236",
   "metadata": {},
   "outputs": [
    {
     "data": {
      "text/plain": [
       "['gradient_best.sav']"
      ]
     },
     "execution_count": 17,
     "metadata": {},
     "output_type": "execute_result"
    }
   ],
   "source": [
    "filename = 'gradient_best.sav'\n",
    "joblib.dump(model_3, filename)"
   ]
  },
  {
   "cell_type": "code",
   "execution_count": 18,
   "id": "db90bc20",
   "metadata": {},
   "outputs": [
    {
     "name": "stdout",
     "output_type": "stream",
     "text": [
      "0.9649256198347107\n"
     ]
    }
   ],
   "source": [
    "loaded_model = joblib.load('gradient_best.sav')\n",
    "result = loaded_model.score(X_test, y_test)\n",
    "print(result)"
   ]
  },
  {
   "cell_type": "markdown",
   "id": "50124912",
   "metadata": {},
   "source": [
    "## Создаем новый датасет для замены \"-\" в таргете на предсказанные значения"
   ]
  },
  {
   "cell_type": "code",
   "execution_count": 19,
   "id": "cfb1958c",
   "metadata": {},
   "outputs": [],
   "source": [
    "df_new = df.query('satisfaction == \"-\"')"
   ]
  },
  {
   "cell_type": "code",
   "execution_count": 20,
   "id": "462869e1",
   "metadata": {},
   "outputs": [],
   "source": [
    "df_new = df_new.replace(code_nums)"
   ]
  },
  {
   "cell_type": "code",
   "execution_count": 21,
   "id": "8e828517",
   "metadata": {},
   "outputs": [],
   "source": [
    "df_new = pd.get_dummies(df_new, prefix = ['c'],\n",
    "                          columns = ['class'],\n",
    "                          drop_first = False)"
   ]
  },
  {
   "cell_type": "code",
   "execution_count": 22,
   "id": "52024d1a",
   "metadata": {},
   "outputs": [],
   "source": [
    "df_new = df_new.drop(columns=['id', 'satisfaction'])"
   ]
  },
  {
   "cell_type": "code",
   "execution_count": 23,
   "id": "62c41343",
   "metadata": {},
   "outputs": [
    {
     "data": {
      "text/plain": [
       "gender                                71\n",
       "age                                   55\n",
       "customer_type                         11\n",
       "type_of_travel                        13\n",
       "flight_distance                       22\n",
       "departure_delay_in_minutes            23\n",
       "arrival_delay_in_minutes             102\n",
       "inflight_wifi_service                 12\n",
       "departure_arrival_time_convenient      8\n",
       "ease_of_online_booking                10\n",
       "gate_location                          7\n",
       "food_and_drink                        15\n",
       "online_boarding                        9\n",
       "seat_comfort                           7\n",
       "inflight_entertainment                 3\n",
       "on_board_service                      12\n",
       "leg_room_service                      10\n",
       "baggage_handling                      16\n",
       "checkin_service                        8\n",
       "inflight_service                      14\n",
       "cleanliness                            6\n",
       "c_Business                             0\n",
       "c_Eco                                  0\n",
       "c_Eco Plus                             0\n",
       "dtype: int64"
      ]
     },
     "execution_count": 23,
     "metadata": {},
     "output_type": "execute_result"
    }
   ],
   "source": [
    "df_new.isna().sum()"
   ]
  },
  {
   "cell_type": "code",
   "execution_count": 24,
   "id": "bb07667d",
   "metadata": {},
   "outputs": [],
   "source": [
    "df_new = df_new.dropna()"
   ]
  },
  {
   "cell_type": "markdown",
   "id": "26d757dc",
   "metadata": {},
   "source": [
    "### Получаем предсказания для \"-\" и добавляем их вместо \"-\""
   ]
  },
  {
   "cell_type": "code",
   "execution_count": 25,
   "id": "28c1a020",
   "metadata": {},
   "outputs": [],
   "source": [
    "pred_new = loaded_model.predict(df_new)"
   ]
  },
  {
   "cell_type": "code",
   "execution_count": 26,
   "id": "08c3ce48",
   "metadata": {},
   "outputs": [],
   "source": [
    "df_new['satisfaction'] = pred_new"
   ]
  },
  {
   "cell_type": "markdown",
   "id": "c0411a36",
   "metadata": {},
   "source": [
    "### Создаем новый датафрейм для обучения где \"-\" уже заменены на предсказания"
   ]
  },
  {
   "cell_type": "code",
   "execution_count": 27,
   "id": "5db5114f",
   "metadata": {},
   "outputs": [],
   "source": [
    "df_new['id'] = df.id"
   ]
  },
  {
   "cell_type": "code",
   "execution_count": 28,
   "id": "0be47170",
   "metadata": {},
   "outputs": [],
   "source": [
    "new = df.dropna()"
   ]
  },
  {
   "cell_type": "code",
   "execution_count": 29,
   "id": "6f70fad5",
   "metadata": {},
   "outputs": [],
   "source": [
    "new = new.replace(code_nums)"
   ]
  },
  {
   "cell_type": "code",
   "execution_count": 30,
   "id": "7eeb451c",
   "metadata": {},
   "outputs": [],
   "source": [
    "new = new.merge(df_new[['satisfaction','id']], on='id', how='left')"
   ]
  },
  {
   "cell_type": "code",
   "execution_count": 31,
   "id": "b81a2327",
   "metadata": {},
   "outputs": [],
   "source": [
    "new['satisfaction'] = new['satisfaction_x'].fillna(0) + new['satisfaction_y'].fillna(0)"
   ]
  },
  {
   "cell_type": "code",
   "execution_count": 32,
   "id": "c0179749",
   "metadata": {},
   "outputs": [],
   "source": [
    "new = new.drop(columns=['satisfaction_x', 'satisfaction_y'])"
   ]
  },
  {
   "cell_type": "code",
   "execution_count": 33,
   "id": "26207edc",
   "metadata": {},
   "outputs": [],
   "source": [
    "new = pd.get_dummies(new, prefix = ['c'],\n",
    "                          columns = ['class'],\n",
    "                          drop_first = False)"
   ]
  },
  {
   "cell_type": "code",
   "execution_count": 34,
   "id": "1ef0da56",
   "metadata": {},
   "outputs": [
    {
     "data": {
      "text/html": [
       "<div>\n",
       "<style scoped>\n",
       "    .dataframe tbody tr th:only-of-type {\n",
       "        vertical-align: middle;\n",
       "    }\n",
       "\n",
       "    .dataframe tbody tr th {\n",
       "        vertical-align: top;\n",
       "    }\n",
       "\n",
       "    .dataframe thead th {\n",
       "        text-align: right;\n",
       "    }\n",
       "</style>\n",
       "<table border=\"1\" class=\"dataframe\">\n",
       "  <thead>\n",
       "    <tr style=\"text-align: right;\">\n",
       "      <th></th>\n",
       "      <th>id</th>\n",
       "      <th>gender</th>\n",
       "      <th>age</th>\n",
       "      <th>customer_type</th>\n",
       "      <th>type_of_travel</th>\n",
       "      <th>flight_distance</th>\n",
       "      <th>departure_delay_in_minutes</th>\n",
       "      <th>arrival_delay_in_minutes</th>\n",
       "      <th>inflight_wifi_service</th>\n",
       "      <th>departure_arrival_time_convenient</th>\n",
       "      <th>...</th>\n",
       "      <th>on_board_service</th>\n",
       "      <th>leg_room_service</th>\n",
       "      <th>baggage_handling</th>\n",
       "      <th>checkin_service</th>\n",
       "      <th>inflight_service</th>\n",
       "      <th>cleanliness</th>\n",
       "      <th>satisfaction</th>\n",
       "      <th>c_Business</th>\n",
       "      <th>c_Eco</th>\n",
       "      <th>c_Eco Plus</th>\n",
       "    </tr>\n",
       "  </thead>\n",
       "  <tbody>\n",
       "    <tr>\n",
       "      <th>0</th>\n",
       "      <td>1</td>\n",
       "      <td>1</td>\n",
       "      <td>48.0</td>\n",
       "      <td>0</td>\n",
       "      <td>1</td>\n",
       "      <td>821.0</td>\n",
       "      <td>2.0</td>\n",
       "      <td>5.0</td>\n",
       "      <td>3.0</td>\n",
       "      <td>3.0</td>\n",
       "      <td>...</td>\n",
       "      <td>3.0</td>\n",
       "      <td>2.0</td>\n",
       "      <td>5.0</td>\n",
       "      <td>4.0</td>\n",
       "      <td>5.0</td>\n",
       "      <td>5.0</td>\n",
       "      <td>0.0</td>\n",
       "      <td>1</td>\n",
       "      <td>0</td>\n",
       "      <td>0</td>\n",
       "    </tr>\n",
       "    <tr>\n",
       "      <th>1</th>\n",
       "      <td>2</td>\n",
       "      <td>0</td>\n",
       "      <td>35.0</td>\n",
       "      <td>1</td>\n",
       "      <td>1</td>\n",
       "      <td>821.0</td>\n",
       "      <td>26.0</td>\n",
       "      <td>39.0</td>\n",
       "      <td>2.0</td>\n",
       "      <td>2.0</td>\n",
       "      <td>...</td>\n",
       "      <td>5.0</td>\n",
       "      <td>5.0</td>\n",
       "      <td>5.0</td>\n",
       "      <td>3.0</td>\n",
       "      <td>5.0</td>\n",
       "      <td>5.0</td>\n",
       "      <td>1.0</td>\n",
       "      <td>1</td>\n",
       "      <td>0</td>\n",
       "      <td>0</td>\n",
       "    </tr>\n",
       "    <tr>\n",
       "      <th>2</th>\n",
       "      <td>3</td>\n",
       "      <td>1</td>\n",
       "      <td>41.0</td>\n",
       "      <td>1</td>\n",
       "      <td>1</td>\n",
       "      <td>853.0</td>\n",
       "      <td>0.0</td>\n",
       "      <td>0.0</td>\n",
       "      <td>4.0</td>\n",
       "      <td>4.0</td>\n",
       "      <td>...</td>\n",
       "      <td>3.0</td>\n",
       "      <td>3.0</td>\n",
       "      <td>3.0</td>\n",
       "      <td>4.0</td>\n",
       "      <td>3.0</td>\n",
       "      <td>5.0</td>\n",
       "      <td>1.0</td>\n",
       "      <td>1</td>\n",
       "      <td>0</td>\n",
       "      <td>0</td>\n",
       "    </tr>\n",
       "    <tr>\n",
       "      <th>3</th>\n",
       "      <td>4</td>\n",
       "      <td>1</td>\n",
       "      <td>50.0</td>\n",
       "      <td>1</td>\n",
       "      <td>1</td>\n",
       "      <td>1905.0</td>\n",
       "      <td>0.0</td>\n",
       "      <td>0.0</td>\n",
       "      <td>2.0</td>\n",
       "      <td>2.0</td>\n",
       "      <td>...</td>\n",
       "      <td>5.0</td>\n",
       "      <td>5.0</td>\n",
       "      <td>5.0</td>\n",
       "      <td>3.0</td>\n",
       "      <td>5.0</td>\n",
       "      <td>4.0</td>\n",
       "      <td>1.0</td>\n",
       "      <td>1</td>\n",
       "      <td>0</td>\n",
       "      <td>0</td>\n",
       "    </tr>\n",
       "    <tr>\n",
       "      <th>4</th>\n",
       "      <td>5</td>\n",
       "      <td>0</td>\n",
       "      <td>49.0</td>\n",
       "      <td>1</td>\n",
       "      <td>1</td>\n",
       "      <td>3470.0</td>\n",
       "      <td>0.0</td>\n",
       "      <td>1.0</td>\n",
       "      <td>3.0</td>\n",
       "      <td>3.0</td>\n",
       "      <td>...</td>\n",
       "      <td>3.0</td>\n",
       "      <td>4.0</td>\n",
       "      <td>3.0</td>\n",
       "      <td>3.0</td>\n",
       "      <td>3.0</td>\n",
       "      <td>5.0</td>\n",
       "      <td>1.0</td>\n",
       "      <td>1</td>\n",
       "      <td>0</td>\n",
       "      <td>0</td>\n",
       "    </tr>\n",
       "    <tr>\n",
       "      <th>...</th>\n",
       "      <td>...</td>\n",
       "      <td>...</td>\n",
       "      <td>...</td>\n",
       "      <td>...</td>\n",
       "      <td>...</td>\n",
       "      <td>...</td>\n",
       "      <td>...</td>\n",
       "      <td>...</td>\n",
       "      <td>...</td>\n",
       "      <td>...</td>\n",
       "      <td>...</td>\n",
       "      <td>...</td>\n",
       "      <td>...</td>\n",
       "      <td>...</td>\n",
       "      <td>...</td>\n",
       "      <td>...</td>\n",
       "      <td>...</td>\n",
       "      <td>...</td>\n",
       "      <td>...</td>\n",
       "      <td>...</td>\n",
       "      <td>...</td>\n",
       "    </tr>\n",
       "    <tr>\n",
       "      <th>127599</th>\n",
       "      <td>129875</td>\n",
       "      <td>0</td>\n",
       "      <td>55.0</td>\n",
       "      <td>1</td>\n",
       "      <td>0</td>\n",
       "      <td>308.0</td>\n",
       "      <td>0.0</td>\n",
       "      <td>0.0</td>\n",
       "      <td>3.0</td>\n",
       "      <td>4.0</td>\n",
       "      <td>...</td>\n",
       "      <td>4.0</td>\n",
       "      <td>3.0</td>\n",
       "      <td>4.0</td>\n",
       "      <td>4.0</td>\n",
       "      <td>4.0</td>\n",
       "      <td>4.0</td>\n",
       "      <td>0.0</td>\n",
       "      <td>0</td>\n",
       "      <td>0</td>\n",
       "      <td>1</td>\n",
       "    </tr>\n",
       "    <tr>\n",
       "      <th>127600</th>\n",
       "      <td>129876</td>\n",
       "      <td>1</td>\n",
       "      <td>28.0</td>\n",
       "      <td>1</td>\n",
       "      <td>0</td>\n",
       "      <td>447.0</td>\n",
       "      <td>2.0</td>\n",
       "      <td>3.0</td>\n",
       "      <td>4.0</td>\n",
       "      <td>4.0</td>\n",
       "      <td>...</td>\n",
       "      <td>5.0</td>\n",
       "      <td>4.0</td>\n",
       "      <td>4.0</td>\n",
       "      <td>4.0</td>\n",
       "      <td>5.0</td>\n",
       "      <td>4.0</td>\n",
       "      <td>0.0</td>\n",
       "      <td>0</td>\n",
       "      <td>0</td>\n",
       "      <td>1</td>\n",
       "    </tr>\n",
       "    <tr>\n",
       "      <th>127601</th>\n",
       "      <td>129878</td>\n",
       "      <td>1</td>\n",
       "      <td>42.0</td>\n",
       "      <td>1</td>\n",
       "      <td>0</td>\n",
       "      <td>337.0</td>\n",
       "      <td>6.0</td>\n",
       "      <td>14.0</td>\n",
       "      <td>2.0</td>\n",
       "      <td>5.0</td>\n",
       "      <td>...</td>\n",
       "      <td>3.0</td>\n",
       "      <td>4.0</td>\n",
       "      <td>5.0</td>\n",
       "      <td>4.0</td>\n",
       "      <td>4.0</td>\n",
       "      <td>3.0</td>\n",
       "      <td>0.0</td>\n",
       "      <td>0</td>\n",
       "      <td>0</td>\n",
       "      <td>1</td>\n",
       "    </tr>\n",
       "    <tr>\n",
       "      <th>127602</th>\n",
       "      <td>129879</td>\n",
       "      <td>1</td>\n",
       "      <td>50.0</td>\n",
       "      <td>1</td>\n",
       "      <td>0</td>\n",
       "      <td>337.0</td>\n",
       "      <td>31.0</td>\n",
       "      <td>22.0</td>\n",
       "      <td>5.0</td>\n",
       "      <td>4.0</td>\n",
       "      <td>...</td>\n",
       "      <td>4.0</td>\n",
       "      <td>5.0</td>\n",
       "      <td>5.0</td>\n",
       "      <td>3.0</td>\n",
       "      <td>4.0</td>\n",
       "      <td>3.0</td>\n",
       "      <td>1.0</td>\n",
       "      <td>0</td>\n",
       "      <td>0</td>\n",
       "      <td>1</td>\n",
       "    </tr>\n",
       "    <tr>\n",
       "      <th>127603</th>\n",
       "      <td>129880</td>\n",
       "      <td>0</td>\n",
       "      <td>20.0</td>\n",
       "      <td>1</td>\n",
       "      <td>0</td>\n",
       "      <td>337.0</td>\n",
       "      <td>0.0</td>\n",
       "      <td>0.0</td>\n",
       "      <td>3.0</td>\n",
       "      <td>1.0</td>\n",
       "      <td>...</td>\n",
       "      <td>4.0</td>\n",
       "      <td>4.0</td>\n",
       "      <td>1.0</td>\n",
       "      <td>4.0</td>\n",
       "      <td>2.0</td>\n",
       "      <td>2.0</td>\n",
       "      <td>0.0</td>\n",
       "      <td>0</td>\n",
       "      <td>0</td>\n",
       "      <td>1</td>\n",
       "    </tr>\n",
       "  </tbody>\n",
       "</table>\n",
       "<p>127604 rows × 26 columns</p>\n",
       "</div>"
      ],
      "text/plain": [
       "            id  gender   age  customer_type  type_of_travel  flight_distance  \\\n",
       "0            1       1  48.0              0               1            821.0   \n",
       "1            2       0  35.0              1               1            821.0   \n",
       "2            3       1  41.0              1               1            853.0   \n",
       "3            4       1  50.0              1               1           1905.0   \n",
       "4            5       0  49.0              1               1           3470.0   \n",
       "...        ...     ...   ...            ...             ...              ...   \n",
       "127599  129875       0  55.0              1               0            308.0   \n",
       "127600  129876       1  28.0              1               0            447.0   \n",
       "127601  129878       1  42.0              1               0            337.0   \n",
       "127602  129879       1  50.0              1               0            337.0   \n",
       "127603  129880       0  20.0              1               0            337.0   \n",
       "\n",
       "        departure_delay_in_minutes  arrival_delay_in_minutes  \\\n",
       "0                              2.0                       5.0   \n",
       "1                             26.0                      39.0   \n",
       "2                              0.0                       0.0   \n",
       "3                              0.0                       0.0   \n",
       "4                              0.0                       1.0   \n",
       "...                            ...                       ...   \n",
       "127599                         0.0                       0.0   \n",
       "127600                         2.0                       3.0   \n",
       "127601                         6.0                      14.0   \n",
       "127602                        31.0                      22.0   \n",
       "127603                         0.0                       0.0   \n",
       "\n",
       "        inflight_wifi_service  departure_arrival_time_convenient  ...  \\\n",
       "0                         3.0                                3.0  ...   \n",
       "1                         2.0                                2.0  ...   \n",
       "2                         4.0                                4.0  ...   \n",
       "3                         2.0                                2.0  ...   \n",
       "4                         3.0                                3.0  ...   \n",
       "...                       ...                                ...  ...   \n",
       "127599                    3.0                                4.0  ...   \n",
       "127600                    4.0                                4.0  ...   \n",
       "127601                    2.0                                5.0  ...   \n",
       "127602                    5.0                                4.0  ...   \n",
       "127603                    3.0                                1.0  ...   \n",
       "\n",
       "        on_board_service  leg_room_service  baggage_handling  checkin_service  \\\n",
       "0                    3.0               2.0               5.0              4.0   \n",
       "1                    5.0               5.0               5.0              3.0   \n",
       "2                    3.0               3.0               3.0              4.0   \n",
       "3                    5.0               5.0               5.0              3.0   \n",
       "4                    3.0               4.0               3.0              3.0   \n",
       "...                  ...               ...               ...              ...   \n",
       "127599               4.0               3.0               4.0              4.0   \n",
       "127600               5.0               4.0               4.0              4.0   \n",
       "127601               3.0               4.0               5.0              4.0   \n",
       "127602               4.0               5.0               5.0              3.0   \n",
       "127603               4.0               4.0               1.0              4.0   \n",
       "\n",
       "        inflight_service  cleanliness  satisfaction  c_Business  c_Eco  \\\n",
       "0                    5.0          5.0           0.0           1      0   \n",
       "1                    5.0          5.0           1.0           1      0   \n",
       "2                    3.0          5.0           1.0           1      0   \n",
       "3                    5.0          4.0           1.0           1      0   \n",
       "4                    3.0          5.0           1.0           1      0   \n",
       "...                  ...          ...           ...         ...    ...   \n",
       "127599               4.0          4.0           0.0           0      0   \n",
       "127600               5.0          4.0           0.0           0      0   \n",
       "127601               4.0          3.0           0.0           0      0   \n",
       "127602               4.0          3.0           1.0           0      0   \n",
       "127603               2.0          2.0           0.0           0      0   \n",
       "\n",
       "        c_Eco Plus  \n",
       "0                0  \n",
       "1                0  \n",
       "2                0  \n",
       "3                0  \n",
       "4                0  \n",
       "...            ...  \n",
       "127599           1  \n",
       "127600           1  \n",
       "127601           1  \n",
       "127602           1  \n",
       "127603           1  \n",
       "\n",
       "[127604 rows x 26 columns]"
      ]
     },
     "execution_count": 34,
     "metadata": {},
     "output_type": "execute_result"
    }
   ],
   "source": [
    "new"
   ]
  },
  {
   "cell_type": "code",
   "execution_count": 35,
   "id": "d82eae1a",
   "metadata": {},
   "outputs": [],
   "source": [
    "new_test = new"
   ]
  },
  {
   "cell_type": "code",
   "execution_count": 48,
   "id": "11f47114",
   "metadata": {},
   "outputs": [],
   "source": [
    "new_test = new_test.drop(columns=['id', 'flight_distance'])"
   ]
  },
  {
   "cell_type": "code",
   "execution_count": 49,
   "id": "71b13a62",
   "metadata": {},
   "outputs": [
    {
     "data": {
      "text/html": [
       "<div>\n",
       "<style scoped>\n",
       "    .dataframe tbody tr th:only-of-type {\n",
       "        vertical-align: middle;\n",
       "    }\n",
       "\n",
       "    .dataframe tbody tr th {\n",
       "        vertical-align: top;\n",
       "    }\n",
       "\n",
       "    .dataframe thead th {\n",
       "        text-align: right;\n",
       "    }\n",
       "</style>\n",
       "<table border=\"1\" class=\"dataframe\">\n",
       "  <thead>\n",
       "    <tr style=\"text-align: right;\">\n",
       "      <th></th>\n",
       "      <th>gender</th>\n",
       "      <th>age</th>\n",
       "      <th>customer_type</th>\n",
       "      <th>type_of_travel</th>\n",
       "      <th>departure_delay_in_minutes</th>\n",
       "      <th>arrival_delay_in_minutes</th>\n",
       "      <th>inflight_wifi_service</th>\n",
       "      <th>departure_arrival_time_convenient</th>\n",
       "      <th>ease_of_online_booking</th>\n",
       "      <th>gate_location</th>\n",
       "      <th>...</th>\n",
       "      <th>on_board_service</th>\n",
       "      <th>leg_room_service</th>\n",
       "      <th>baggage_handling</th>\n",
       "      <th>checkin_service</th>\n",
       "      <th>inflight_service</th>\n",
       "      <th>cleanliness</th>\n",
       "      <th>satisfaction</th>\n",
       "      <th>c_Business</th>\n",
       "      <th>c_Eco</th>\n",
       "      <th>c_Eco Plus</th>\n",
       "    </tr>\n",
       "  </thead>\n",
       "  <tbody>\n",
       "    <tr>\n",
       "      <th>0</th>\n",
       "      <td>1</td>\n",
       "      <td>48.0</td>\n",
       "      <td>0</td>\n",
       "      <td>1</td>\n",
       "      <td>2.0</td>\n",
       "      <td>5.0</td>\n",
       "      <td>3.0</td>\n",
       "      <td>3.0</td>\n",
       "      <td>3.0</td>\n",
       "      <td>3.0</td>\n",
       "      <td>...</td>\n",
       "      <td>3.0</td>\n",
       "      <td>2.0</td>\n",
       "      <td>5.0</td>\n",
       "      <td>4.0</td>\n",
       "      <td>5.0</td>\n",
       "      <td>5.0</td>\n",
       "      <td>0.0</td>\n",
       "      <td>1</td>\n",
       "      <td>0</td>\n",
       "      <td>0</td>\n",
       "    </tr>\n",
       "    <tr>\n",
       "      <th>1</th>\n",
       "      <td>0</td>\n",
       "      <td>35.0</td>\n",
       "      <td>1</td>\n",
       "      <td>1</td>\n",
       "      <td>26.0</td>\n",
       "      <td>39.0</td>\n",
       "      <td>2.0</td>\n",
       "      <td>2.0</td>\n",
       "      <td>2.0</td>\n",
       "      <td>2.0</td>\n",
       "      <td>...</td>\n",
       "      <td>5.0</td>\n",
       "      <td>5.0</td>\n",
       "      <td>5.0</td>\n",
       "      <td>3.0</td>\n",
       "      <td>5.0</td>\n",
       "      <td>5.0</td>\n",
       "      <td>1.0</td>\n",
       "      <td>1</td>\n",
       "      <td>0</td>\n",
       "      <td>0</td>\n",
       "    </tr>\n",
       "    <tr>\n",
       "      <th>2</th>\n",
       "      <td>1</td>\n",
       "      <td>41.0</td>\n",
       "      <td>1</td>\n",
       "      <td>1</td>\n",
       "      <td>0.0</td>\n",
       "      <td>0.0</td>\n",
       "      <td>4.0</td>\n",
       "      <td>4.0</td>\n",
       "      <td>4.0</td>\n",
       "      <td>4.0</td>\n",
       "      <td>...</td>\n",
       "      <td>3.0</td>\n",
       "      <td>3.0</td>\n",
       "      <td>3.0</td>\n",
       "      <td>4.0</td>\n",
       "      <td>3.0</td>\n",
       "      <td>5.0</td>\n",
       "      <td>1.0</td>\n",
       "      <td>1</td>\n",
       "      <td>0</td>\n",
       "      <td>0</td>\n",
       "    </tr>\n",
       "    <tr>\n",
       "      <th>3</th>\n",
       "      <td>1</td>\n",
       "      <td>50.0</td>\n",
       "      <td>1</td>\n",
       "      <td>1</td>\n",
       "      <td>0.0</td>\n",
       "      <td>0.0</td>\n",
       "      <td>2.0</td>\n",
       "      <td>2.0</td>\n",
       "      <td>2.0</td>\n",
       "      <td>2.0</td>\n",
       "      <td>...</td>\n",
       "      <td>5.0</td>\n",
       "      <td>5.0</td>\n",
       "      <td>5.0</td>\n",
       "      <td>3.0</td>\n",
       "      <td>5.0</td>\n",
       "      <td>4.0</td>\n",
       "      <td>1.0</td>\n",
       "      <td>1</td>\n",
       "      <td>0</td>\n",
       "      <td>0</td>\n",
       "    </tr>\n",
       "    <tr>\n",
       "      <th>4</th>\n",
       "      <td>0</td>\n",
       "      <td>49.0</td>\n",
       "      <td>1</td>\n",
       "      <td>1</td>\n",
       "      <td>0.0</td>\n",
       "      <td>1.0</td>\n",
       "      <td>3.0</td>\n",
       "      <td>3.0</td>\n",
       "      <td>3.0</td>\n",
       "      <td>3.0</td>\n",
       "      <td>...</td>\n",
       "      <td>3.0</td>\n",
       "      <td>4.0</td>\n",
       "      <td>3.0</td>\n",
       "      <td>3.0</td>\n",
       "      <td>3.0</td>\n",
       "      <td>5.0</td>\n",
       "      <td>1.0</td>\n",
       "      <td>1</td>\n",
       "      <td>0</td>\n",
       "      <td>0</td>\n",
       "    </tr>\n",
       "    <tr>\n",
       "      <th>...</th>\n",
       "      <td>...</td>\n",
       "      <td>...</td>\n",
       "      <td>...</td>\n",
       "      <td>...</td>\n",
       "      <td>...</td>\n",
       "      <td>...</td>\n",
       "      <td>...</td>\n",
       "      <td>...</td>\n",
       "      <td>...</td>\n",
       "      <td>...</td>\n",
       "      <td>...</td>\n",
       "      <td>...</td>\n",
       "      <td>...</td>\n",
       "      <td>...</td>\n",
       "      <td>...</td>\n",
       "      <td>...</td>\n",
       "      <td>...</td>\n",
       "      <td>...</td>\n",
       "      <td>...</td>\n",
       "      <td>...</td>\n",
       "      <td>...</td>\n",
       "    </tr>\n",
       "    <tr>\n",
       "      <th>127599</th>\n",
       "      <td>0</td>\n",
       "      <td>55.0</td>\n",
       "      <td>1</td>\n",
       "      <td>0</td>\n",
       "      <td>0.0</td>\n",
       "      <td>0.0</td>\n",
       "      <td>3.0</td>\n",
       "      <td>4.0</td>\n",
       "      <td>3.0</td>\n",
       "      <td>4.0</td>\n",
       "      <td>...</td>\n",
       "      <td>4.0</td>\n",
       "      <td>3.0</td>\n",
       "      <td>4.0</td>\n",
       "      <td>4.0</td>\n",
       "      <td>4.0</td>\n",
       "      <td>4.0</td>\n",
       "      <td>0.0</td>\n",
       "      <td>0</td>\n",
       "      <td>0</td>\n",
       "      <td>1</td>\n",
       "    </tr>\n",
       "    <tr>\n",
       "      <th>127600</th>\n",
       "      <td>1</td>\n",
       "      <td>28.0</td>\n",
       "      <td>1</td>\n",
       "      <td>0</td>\n",
       "      <td>2.0</td>\n",
       "      <td>3.0</td>\n",
       "      <td>4.0</td>\n",
       "      <td>4.0</td>\n",
       "      <td>4.0</td>\n",
       "      <td>2.0</td>\n",
       "      <td>...</td>\n",
       "      <td>5.0</td>\n",
       "      <td>4.0</td>\n",
       "      <td>4.0</td>\n",
       "      <td>4.0</td>\n",
       "      <td>5.0</td>\n",
       "      <td>4.0</td>\n",
       "      <td>0.0</td>\n",
       "      <td>0</td>\n",
       "      <td>0</td>\n",
       "      <td>1</td>\n",
       "    </tr>\n",
       "    <tr>\n",
       "      <th>127601</th>\n",
       "      <td>1</td>\n",
       "      <td>42.0</td>\n",
       "      <td>1</td>\n",
       "      <td>0</td>\n",
       "      <td>6.0</td>\n",
       "      <td>14.0</td>\n",
       "      <td>2.0</td>\n",
       "      <td>5.0</td>\n",
       "      <td>2.0</td>\n",
       "      <td>1.0</td>\n",
       "      <td>...</td>\n",
       "      <td>3.0</td>\n",
       "      <td>4.0</td>\n",
       "      <td>5.0</td>\n",
       "      <td>4.0</td>\n",
       "      <td>4.0</td>\n",
       "      <td>3.0</td>\n",
       "      <td>0.0</td>\n",
       "      <td>0</td>\n",
       "      <td>0</td>\n",
       "      <td>1</td>\n",
       "    </tr>\n",
       "    <tr>\n",
       "      <th>127602</th>\n",
       "      <td>1</td>\n",
       "      <td>50.0</td>\n",
       "      <td>1</td>\n",
       "      <td>0</td>\n",
       "      <td>31.0</td>\n",
       "      <td>22.0</td>\n",
       "      <td>5.0</td>\n",
       "      <td>4.0</td>\n",
       "      <td>4.0</td>\n",
       "      <td>1.0</td>\n",
       "      <td>...</td>\n",
       "      <td>4.0</td>\n",
       "      <td>5.0</td>\n",
       "      <td>5.0</td>\n",
       "      <td>3.0</td>\n",
       "      <td>4.0</td>\n",
       "      <td>3.0</td>\n",
       "      <td>1.0</td>\n",
       "      <td>0</td>\n",
       "      <td>0</td>\n",
       "      <td>1</td>\n",
       "    </tr>\n",
       "    <tr>\n",
       "      <th>127603</th>\n",
       "      <td>0</td>\n",
       "      <td>20.0</td>\n",
       "      <td>1</td>\n",
       "      <td>0</td>\n",
       "      <td>0.0</td>\n",
       "      <td>0.0</td>\n",
       "      <td>3.0</td>\n",
       "      <td>1.0</td>\n",
       "      <td>3.0</td>\n",
       "      <td>2.0</td>\n",
       "      <td>...</td>\n",
       "      <td>4.0</td>\n",
       "      <td>4.0</td>\n",
       "      <td>1.0</td>\n",
       "      <td>4.0</td>\n",
       "      <td>2.0</td>\n",
       "      <td>2.0</td>\n",
       "      <td>0.0</td>\n",
       "      <td>0</td>\n",
       "      <td>0</td>\n",
       "      <td>1</td>\n",
       "    </tr>\n",
       "  </tbody>\n",
       "</table>\n",
       "<p>127604 rows × 24 columns</p>\n",
       "</div>"
      ],
      "text/plain": [
       "        gender   age  customer_type  type_of_travel  \\\n",
       "0            1  48.0              0               1   \n",
       "1            0  35.0              1               1   \n",
       "2            1  41.0              1               1   \n",
       "3            1  50.0              1               1   \n",
       "4            0  49.0              1               1   \n",
       "...        ...   ...            ...             ...   \n",
       "127599       0  55.0              1               0   \n",
       "127600       1  28.0              1               0   \n",
       "127601       1  42.0              1               0   \n",
       "127602       1  50.0              1               0   \n",
       "127603       0  20.0              1               0   \n",
       "\n",
       "        departure_delay_in_minutes  arrival_delay_in_minutes  \\\n",
       "0                              2.0                       5.0   \n",
       "1                             26.0                      39.0   \n",
       "2                              0.0                       0.0   \n",
       "3                              0.0                       0.0   \n",
       "4                              0.0                       1.0   \n",
       "...                            ...                       ...   \n",
       "127599                         0.0                       0.0   \n",
       "127600                         2.0                       3.0   \n",
       "127601                         6.0                      14.0   \n",
       "127602                        31.0                      22.0   \n",
       "127603                         0.0                       0.0   \n",
       "\n",
       "        inflight_wifi_service  departure_arrival_time_convenient  \\\n",
       "0                         3.0                                3.0   \n",
       "1                         2.0                                2.0   \n",
       "2                         4.0                                4.0   \n",
       "3                         2.0                                2.0   \n",
       "4                         3.0                                3.0   \n",
       "...                       ...                                ...   \n",
       "127599                    3.0                                4.0   \n",
       "127600                    4.0                                4.0   \n",
       "127601                    2.0                                5.0   \n",
       "127602                    5.0                                4.0   \n",
       "127603                    3.0                                1.0   \n",
       "\n",
       "        ease_of_online_booking  gate_location  ...  on_board_service  \\\n",
       "0                          3.0            3.0  ...               3.0   \n",
       "1                          2.0            2.0  ...               5.0   \n",
       "2                          4.0            4.0  ...               3.0   \n",
       "3                          2.0            2.0  ...               5.0   \n",
       "4                          3.0            3.0  ...               3.0   \n",
       "...                        ...            ...  ...               ...   \n",
       "127599                     3.0            4.0  ...               4.0   \n",
       "127600                     4.0            2.0  ...               5.0   \n",
       "127601                     2.0            1.0  ...               3.0   \n",
       "127602                     4.0            1.0  ...               4.0   \n",
       "127603                     3.0            2.0  ...               4.0   \n",
       "\n",
       "        leg_room_service  baggage_handling  checkin_service  inflight_service  \\\n",
       "0                    2.0               5.0              4.0               5.0   \n",
       "1                    5.0               5.0              3.0               5.0   \n",
       "2                    3.0               3.0              4.0               3.0   \n",
       "3                    5.0               5.0              3.0               5.0   \n",
       "4                    4.0               3.0              3.0               3.0   \n",
       "...                  ...               ...              ...               ...   \n",
       "127599               3.0               4.0              4.0               4.0   \n",
       "127600               4.0               4.0              4.0               5.0   \n",
       "127601               4.0               5.0              4.0               4.0   \n",
       "127602               5.0               5.0              3.0               4.0   \n",
       "127603               4.0               1.0              4.0               2.0   \n",
       "\n",
       "        cleanliness  satisfaction  c_Business  c_Eco  c_Eco Plus  \n",
       "0               5.0           0.0           1      0           0  \n",
       "1               5.0           1.0           1      0           0  \n",
       "2               5.0           1.0           1      0           0  \n",
       "3               4.0           1.0           1      0           0  \n",
       "4               5.0           1.0           1      0           0  \n",
       "...             ...           ...         ...    ...         ...  \n",
       "127599          4.0           0.0           0      0           1  \n",
       "127600          4.0           0.0           0      0           1  \n",
       "127601          3.0           0.0           0      0           1  \n",
       "127602          3.0           1.0           0      0           1  \n",
       "127603          2.0           0.0           0      0           1  \n",
       "\n",
       "[127604 rows x 24 columns]"
      ]
     },
     "execution_count": 49,
     "metadata": {},
     "output_type": "execute_result"
    }
   ],
   "source": [
    "new_test"
   ]
  },
  {
   "cell_type": "code",
   "execution_count": 50,
   "id": "2889cef2",
   "metadata": {},
   "outputs": [
    {
     "name": "stdout",
     "output_type": "stream",
     "text": [
      "<class 'pandas.core.frame.DataFrame'>\n",
      "Int64Index: 127604 entries, 0 to 127603\n",
      "Data columns (total 24 columns):\n",
      " #   Column                             Non-Null Count   Dtype  \n",
      "---  ------                             --------------   -----  \n",
      " 0   gender                             127604 non-null  int64  \n",
      " 1   age                                127604 non-null  float64\n",
      " 2   customer_type                      127604 non-null  int64  \n",
      " 3   type_of_travel                     127604 non-null  int64  \n",
      " 4   departure_delay_in_minutes         127604 non-null  float64\n",
      " 5   arrival_delay_in_minutes           127604 non-null  float64\n",
      " 6   inflight_wifi_service              127604 non-null  float64\n",
      " 7   departure_arrival_time_convenient  127604 non-null  float64\n",
      " 8   ease_of_online_booking             127604 non-null  float64\n",
      " 9   gate_location                      127604 non-null  float64\n",
      " 10  food_and_drink                     127604 non-null  float64\n",
      " 11  online_boarding                    127604 non-null  float64\n",
      " 12  seat_comfort                       127604 non-null  float64\n",
      " 13  inflight_entertainment             127604 non-null  float64\n",
      " 14  on_board_service                   127604 non-null  float64\n",
      " 15  leg_room_service                   127604 non-null  float64\n",
      " 16  baggage_handling                   127604 non-null  float64\n",
      " 17  checkin_service                    127604 non-null  float64\n",
      " 18  inflight_service                   127604 non-null  float64\n",
      " 19  cleanliness                        127604 non-null  float64\n",
      " 20  satisfaction                       127604 non-null  float64\n",
      " 21  c_Business                         127604 non-null  uint8  \n",
      " 22  c_Eco                              127604 non-null  uint8  \n",
      " 23  c_Eco Plus                         127604 non-null  uint8  \n",
      "dtypes: float64(18), int64(3), uint8(3)\n",
      "memory usage: 21.8 MB\n"
     ]
    }
   ],
   "source": [
    "new_test.info()"
   ]
  },
  {
   "cell_type": "code",
   "execution_count": 51,
   "id": "0a7c11e4",
   "metadata": {},
   "outputs": [],
   "source": [
    "new_test.to_csv('clients_mod.csv',index=False)"
   ]
  },
  {
   "cell_type": "markdown",
   "id": "b74f4033",
   "metadata": {},
   "source": [
    "### Создаем обучающую выборку"
   ]
  },
  {
   "cell_type": "code",
   "execution_count": 73,
   "id": "c39a73e2",
   "metadata": {},
   "outputs": [],
   "source": [
    "new_test = pd.read_csv('clients_mod.csv')"
   ]
  },
  {
   "cell_type": "code",
   "execution_count": 74,
   "id": "9ec3b0ff",
   "metadata": {},
   "outputs": [],
   "source": [
    "X1 = new_test.drop(columns=['satisfaction'])\n",
    "y1 = new_test.satisfaction"
   ]
  },
  {
   "cell_type": "code",
   "execution_count": 75,
   "id": "8f8ee831",
   "metadata": {},
   "outputs": [
    {
     "data": {
      "text/plain": [
       "((89322, 23), (38282, 23))"
      ]
     },
     "execution_count": 75,
     "metadata": {},
     "output_type": "execute_result"
    }
   ],
   "source": [
    "X1_train, X1_test, y1_train, y1_test = train_test_split(X1, y1, test_size=0.3, random_state=42)\n",
    "\n",
    "X1_train.shape, X1_test.shape"
   ]
  },
  {
   "cell_type": "markdown",
   "id": "ac092a73",
   "metadata": {},
   "source": [
    "### Обучаем модель"
   ]
  },
  {
   "cell_type": "code",
   "execution_count": 76,
   "id": "7095b11c",
   "metadata": {},
   "outputs": [],
   "source": [
    "model_30 = GradientBoostingClassifier(learning_rate=0.1, n_estimators=500, subsample=1.0,\n",
    "                                     criterion='friedman_mse', min_samples_split=2, min_samples_leaf=1,\n",
    "                                     min_weight_fraction_leaf=0.0, max_depth=5, min_impurity_decrease=0.0,\n",
    "                                     init=None, random_state=42)\n",
    "model_30.fit(X1_train, y1_train)\n",
    "pred_30 = model_30.predict(X1_test)"
   ]
  },
  {
   "cell_type": "code",
   "execution_count": 77,
   "id": "8af3ee79",
   "metadata": {},
   "outputs": [
    {
     "data": {
      "text/plain": [
       "array([[21193,   382],\n",
       "       [  822, 15885]], dtype=int64)"
      ]
     },
     "execution_count": 77,
     "metadata": {},
     "output_type": "execute_result"
    }
   ],
   "source": [
    "confusion_matrix(y1_test, pred_30)"
   ]
  },
  {
   "cell_type": "code",
   "execution_count": 89,
   "id": "da4138a3",
   "metadata": {},
   "outputs": [
    {
     "name": "stdout",
     "output_type": "stream",
     "text": [
      "type_of_travel    0.156 +/- 0.001\n",
      "inflight_wifi_service    0.145 +/- 0.001\n",
      "customer_type    0.076 +/- 0.001\n",
      "online_boarding    0.027 +/- 0.001\n",
      "inflight_service    0.024 +/- 0.001\n",
      "baggage_handling    0.024 +/- 0.001\n",
      "checkin_service    0.020 +/- 0.000\n",
      "seat_comfort    0.016 +/- 0.001\n",
      "cleanliness    0.012 +/- 0.000\n",
      "c_Business    0.011 +/- 0.000\n",
      "ease_of_online_booking    0.009 +/- 0.000\n",
      "age    0.007 +/- 0.000\n",
      "on_board_service    0.005 +/- 0.001\n",
      "gate_location    0.003 +/- 0.000\n",
      "inflight_entertainment    0.003 +/- 0.000\n",
      "arrival_delay_in_minutes    0.003 +/- 0.000\n",
      "departure_arrival_time_convenient    0.001 +/- 0.000\n",
      "leg_room_service    0.001 +/- 0.000\n",
      "food_and_drink    0.000 +/- 0.000\n"
     ]
    }
   ],
   "source": [
    "r = permutation_importance(model_30, X1_test, y1_test, n_repeats=10, random_state=42)\n",
    "for i in r.importances_mean.argsort()[::-1]:\n",
    "    if r.importances_mean[i] - 2 * r.importances_std[i] > 0:\n",
    "        print(f\"{X1.columns.values.tolist()[i]:<3}\"\n",
    "              f\"    {r.importances_mean[i]:.3f}\"\n",
    "              f\" +/- {r.importances_std[i]:.3f}\")"
   ]
  },
  {
   "cell_type": "markdown",
   "id": "fc370d91",
   "metadata": {},
   "source": [
    "В данном случае вес имеют параметры типа полета, вайфая в самолете и лояльности клиента"
   ]
  },
  {
   "cell_type": "code",
   "execution_count": 83,
   "id": "22b79b74",
   "metadata": {},
   "outputs": [],
   "source": [
    "pred_proba_train_30 = model_30.predict_proba(X1_train)\n",
    "pred_proba_test_30 = model_30.predict_proba(X1_test)\n",
    "    \n",
    "fpr_train_30, tpr_train_30, _ = roc_curve(y1_train, pred_proba_train_30[:, 1])\n",
    "fpr_test_30, tpr_test_30, _ = roc_curve(y1_test, pred_proba_test_30[:, 1])\n",
    "\n",
    "precision_test_30, recall_test_30, thresholds_test_30 = precision_recall_curve(y1_test, pred_proba_test_30[:, 1])      \n",
    "f1_30 = 2 * precision_test_30 * recall_test_30  / (precision_test_30 + recall_test_30)\n",
    "\n",
    "beta = 0.5\n",
    "f_beta_30 = (1 + beta**2) * precision_test_30 * recall_test_30  / (beta**2 * precision_test_30 + recall_test_30)"
   ]
  },
  {
   "cell_type": "code",
   "execution_count": 84,
   "id": "887c8406",
   "metadata": {},
   "outputs": [
    {
     "data": {
      "image/png": "[encoded data removed]",
      "text/plain": [
       "<Figure size 2300x1000 with 4 Axes>"
      ]
     },
     "metadata": {},
     "output_type": "display_data"
    }
   ],
   "source": [
    "fig, axes = plt.subplots(2, 2, figsize = (23, 10))\n",
    "\n",
    "axes[0][0].plot(fpr_train_30, tpr_train_30, 'r', label = 'Model Train')\n",
    "axes[0][0].plot(fpr_test_30, tpr_test_30, 'r--', label = 'Model Test')\n",
    "axes[0][0].plot([0, 1], [0, 1], 'b', label = 'Baseline')\n",
    "axes[0][0].set_xlim([0.0, 1.0])\n",
    "axes[0][0].set_ylim([0.0, 1.0])\n",
    "axes[0][0].set_xlabel('False Positive Rate')\n",
    "axes[0][0].set_ylabel('True Positive Rate')\n",
    "axes[0][0].legend(loc = \"lower right\")\n",
    "axes[0][0].set_title('ROC AUC Curve')\n",
    "\n",
    "\n",
    "axes[0][1].plot(np.append(thresholds_test_30, 1.0), precision_test_30, 'r', label = 'Precision')\n",
    "axes[0][1].plot(np.append(thresholds_test_30, 1.0), recall_test_30, 'g', label = 'Recall')\n",
    "axes[0][1].set_xlabel('Thresholds')\n",
    "axes[0][1].set_ylabel('Precision & Recall')\n",
    "axes[0][1].legend(loc = \"lower left\")\n",
    "axes[0][1].set_title('Precision - Recall')\n",
    "\n",
    "\n",
    "axes[1][0].plot(np.append(thresholds_test_30, 1.0), f1_30, 'g')\n",
    "axes[1][0].set_xlabel('Thresholds')\n",
    "axes[1][0].set_ylabel('F1 score')\n",
    "axes[1][0].set_title('F1 score')\n",
    "\n",
    "axes[1][1].plot(np.append(thresholds_test_30, 1.0), f_beta_30, 'g')\n",
    "axes[1][1].set_xlabel('Thresholds')\n",
    "axes[1][1].set_ylabel(r'$F_{\\beta}$' + ' score')\n",
    "axes[1][1].set_title(r'$F_{\\beta}$' + ' score')\n",
    "       \n",
    "plt.show()"
   ]
  },
  {
   "cell_type": "code",
   "execution_count": 85,
   "id": "be6ba04c",
   "metadata": {},
   "outputs": [
    {
     "name": "stdout",
     "output_type": "stream",
     "text": [
      "F1 Score = 0.964:  F_beta Score = 0.969  Recall = 0.955  Precision = 0.973\n",
      "F1 Score = 0.956:  F_beta Score = 0.978  Recall = 0.921  Precision = 0.993\n"
     ]
    }
   ],
   "source": [
    "ind_max_f1_30 = np.where(f1_30 == max(f1_30))[0][0]\n",
    "ind_max_f_beta_30 = np.where(f_beta_30 == max(f_beta_30))[0][0]\n",
    "\n",
    "print('F1 Score = {s[0]}:  F_beta Score = {s[1]}  Recall = {s[2]}  Precision = {s[3]}'.\\\n",
    "     format(s = [round(f1_30[ind_max_f1_30], 3),\n",
    "                 round(f_beta_30[ind_max_f1_30], 3),\n",
    "                 round(recall_test_30[ind_max_f1_30], 3),\n",
    "                 round(precision_test_30[ind_max_f1_30], 3)]))\n",
    "\n",
    "print('F1 Score = {s[0]}:  F_beta Score = {s[1]}  Recall = {s[2]}  Precision = {s[3]}'.\\\n",
    "     format(s = [round(f1_30[ind_max_f_beta_30], 3),\n",
    "                 round(f_beta_30[ind_max_f_beta_30], 3),\n",
    "                 round(recall_test_30[ind_max_f_beta_30], 3),\n",
    "                 round(precision_test_30[ind_max_f_beta_30], 3)]))"
   ]
  },
  {
   "cell_type": "code",
   "execution_count": 86,
   "id": "8304849d",
   "metadata": {},
   "outputs": [
    {
     "data": {
      "text/plain": [
       "0.968549187607753"
      ]
     },
     "execution_count": 86,
     "metadata": {},
     "output_type": "execute_result"
    }
   ],
   "source": [
    "model_30.score(X1_test, y1_test)"
   ]
  },
  {
   "cell_type": "code",
   "execution_count": 87,
   "id": "9d898797",
   "metadata": {},
   "outputs": [
    {
     "data": {
      "text/plain": [
       "['best_model.sav']"
      ]
     },
     "execution_count": 87,
     "metadata": {},
     "output_type": "execute_result"
    }
   ],
   "source": [
    "joblib.dump(model_30, 'best_model.sav')"
   ]
  },
  {
   "cell_type": "markdown",
   "id": "90619004",
   "metadata": {},
   "source": [
    "### Минимизируем число признаков"
   ]
  },
  {
   "cell_type": "code",
   "execution_count": 3,
   "id": "8e416de2",
   "metadata": {},
   "outputs": [],
   "source": [
    "new_test = pd.read_csv('clients_mod.csv')"
   ]
  },
  {
   "cell_type": "code",
   "execution_count": 4,
   "id": "a21ba38f",
   "metadata": {},
   "outputs": [],
   "source": [
    "new_test = new_test.drop(columns=['c_Business', 'c_Eco', 'c_Eco Plus',\n",
    "                            'departure_delay_in_minutes', 'arrival_delay_in_minutes',\n",
    "                            'leg_room_service', 'gate_location'])"
   ]
  },
  {
   "cell_type": "code",
   "execution_count": 5,
   "id": "90bf07ca",
   "metadata": {},
   "outputs": [],
   "source": [
    "new_test.to_csv('clients_fin.csv',index=False)"
   ]
  },
  {
   "cell_type": "code",
   "execution_count": 6,
   "id": "e6799641",
   "metadata": {},
   "outputs": [],
   "source": [
    "X1 = new_test.drop(columns=['satisfaction'])\n",
    "y1 = new_test.satisfaction"
   ]
  },
  {
   "cell_type": "code",
   "execution_count": 7,
   "id": "4d814c82",
   "metadata": {},
   "outputs": [
    {
     "data": {
      "text/plain": [
       "((89322, 16), (38282, 16))"
      ]
     },
     "execution_count": 7,
     "metadata": {},
     "output_type": "execute_result"
    }
   ],
   "source": [
    "X1_train, X1_test, y1_train, y1_test = train_test_split(X1, y1, test_size=0.3, random_state=42)\n",
    "\n",
    "X1_train.shape, X1_test.shape"
   ]
  },
  {
   "cell_type": "code",
   "execution_count": 8,
   "id": "753230ad",
   "metadata": {},
   "outputs": [],
   "source": [
    "model_30 = GradientBoostingClassifier(learning_rate=0.1, n_estimators=1000, subsample=1.0,\n",
    "                                     criterion='friedman_mse', min_samples_split=6, min_samples_leaf=1,\n",
    "                                     min_weight_fraction_leaf=0.0, max_depth=6, min_impurity_decrease=0.0,\n",
    "                                     init=None, random_state=42)\n",
    "model_30.fit(X1_train, y1_train)\n",
    "pred_30 = model_30.predict(X1_test)"
   ]
  },
  {
   "cell_type": "code",
   "execution_count": 9,
   "id": "7e6c02f4",
   "metadata": {},
   "outputs": [
    {
     "data": {
      "text/plain": [
       "array([[21090,   485],\n",
       "       [  857, 15850]], dtype=int64)"
      ]
     },
     "execution_count": 9,
     "metadata": {},
     "output_type": "execute_result"
    }
   ],
   "source": [
    "confusion_matrix(y1_test, pred_30)"
   ]
  },
  {
   "cell_type": "code",
   "execution_count": 10,
   "id": "31907dba",
   "metadata": {},
   "outputs": [
    {
     "name": "stdout",
     "output_type": "stream",
     "text": [
      "type_of_travel    0.197 +/- 0.002\n",
      "inflight_wifi_service    0.146 +/- 0.001\n",
      "customer_type    0.095 +/- 0.001\n",
      "inflight_service    0.042 +/- 0.001\n",
      "baggage_handling    0.038 +/- 0.001\n",
      "online_boarding    0.035 +/- 0.001\n",
      "checkin_service    0.029 +/- 0.000\n",
      "seat_comfort    0.028 +/- 0.001\n",
      "cleanliness    0.023 +/- 0.001\n",
      "ease_of_online_booking    0.011 +/- 0.000\n",
      "inflight_entertainment    0.010 +/- 0.000\n",
      "on_board_service    0.009 +/- 0.001\n",
      "age    0.008 +/- 0.001\n",
      "departure_arrival_time_convenient    0.005 +/- 0.000\n",
      "food_and_drink    0.002 +/- 0.001\n",
      "gender    0.001 +/- 0.000\n"
     ]
    }
   ],
   "source": [
    "r = permutation_importance(model_30, X1_test, y1_test, n_repeats=10, random_state=42)\n",
    "for i in r.importances_mean.argsort()[::-1]:\n",
    "    if r.importances_mean[i] - 2 * r.importances_std[i] > 0:\n",
    "        print(f\"{X1.columns.values.tolist()[i]:<3}\"\n",
    "              f\"    {r.importances_mean[i]:.3f}\"\n",
    "              f\" +/- {r.importances_std[i]:.3f}\")"
   ]
  },
  {
   "cell_type": "code",
   "execution_count": 11,
   "id": "c903c514",
   "metadata": {},
   "outputs": [
    {
     "data": {
      "text/plain": [
       "['model_fin.sav']"
      ]
     },
     "execution_count": 11,
     "metadata": {},
     "output_type": "execute_result"
    }
   ],
   "source": [
    "joblib.dump(model_30, 'model_fin.sav')"
   ]
  },
  {
   "cell_type": "markdown",
   "id": "f3ef0029",
   "metadata": {},
   "source": [
    "### Для readme"
   ]
  },
  {
   "cell_type": "markdown",
   "id": "a248484a",
   "metadata": {},
   "source": [
    "В данном ноутбуке уже вся выжимка, был еще ноут где я исследовал выборку, решал как резать фрейм, что удалять и по какому принципу.\n",
    "Тут мною решалась главная занвоздка - \"-\" в таргетном столбце, короче! Как мне кажется - решение гениальное! Итак я лучшая модель - градиентный бустинг, она скорее всего немного переобучилась и выдала средний скор в 96,5%, дальше я натравил ее на признаки для таргета \"-\" и получил какое-то предсказание, априори считаю что с в 96,5% случаях я попал. Дальше матчу эти предсказания в основной набор данных и сосдаю новую выборку, где \"-\" уже заменены на релевантные 0 и 1, дальше сновна натравливаю модель на поплненную выборку и обучаюсь.\n",
    "\n",
    "В ТЕОРИИ эти нехитрым мувом я:\n",
    "1. Избавился от преславутого \"-\"\n",
    "2. Увеличил объем выборки\n",
    "3. Внес в данные некоторый шум, ибо модель не точна, данные не точны, это должно мешать переобучению\n",
    "\n",
    "Итак, моя модель лучше отличает негативных/ нейтральных чем позитивных, и это даже хорошо, лучше выявлять неудовлетворенных и работать с ними, ориентироваться будем больше на метрику precision"
   ]
  }
 ],
 "metadata": {
  "kernelspec": {
   "display_name": "Python 3 (ipykernel)",
   "language": "python",
   "name": "python3"
  },
  "language_info": {
   "codemirror_mode": {
    "name": "ipython",
    "version": 3
   },
   "file_extension": ".py",
   "mimetype": "text/x-python",
   "name": "python",
   "nbconvert_exporter": "python",
   "pygments_lexer": "ipython3",
   "version": "3.10.11"
  }
 },
 "nbformat": 4,
 "nbformat_minor": 5
}
